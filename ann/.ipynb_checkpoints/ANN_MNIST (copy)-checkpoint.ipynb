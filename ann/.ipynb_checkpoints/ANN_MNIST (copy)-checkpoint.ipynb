{
 "cells": [
  {
   "cell_type": "markdown",
   "metadata": {
    "id": "ZgSfyIsqzHFx"
   },
   "source": [
    "### PyTorch"
   ]
  },
  {
   "cell_type": "code",
   "execution_count": 1,
   "metadata": {
    "colab": {
     "base_uri": "https://localhost:8080/"
    },
    "id": "FdvgqRRxyhaK",
    "outputId": "176d49fd-7ad7-4c0c-cec2-c760062734f2"
   },
   "outputs": [
    {
     "name": "stdout",
     "output_type": "stream",
     "text": [
      "Requirement already satisfied: torch in /home/james/miniconda3/envs/n_llm/lib/python3.9/site-packages (2.2.0)\n",
      "Requirement already satisfied: torchvision in /home/james/miniconda3/envs/n_llm/lib/python3.9/site-packages (0.17.0)\n",
      "Requirement already satisfied: nvidia-cusparse-cu12==12.1.0.106 in /home/james/miniconda3/envs/n_llm/lib/python3.9/site-packages (from torch) (12.1.0.106)\n",
      "Requirement already satisfied: fsspec in /home/james/miniconda3/envs/n_llm/lib/python3.9/site-packages (from torch) (2024.2.0)\n",
      "Requirement already satisfied: nvidia-cuda-cupti-cu12==12.1.105 in /home/james/miniconda3/envs/n_llm/lib/python3.9/site-packages (from torch) (12.1.105)\n",
      "Requirement already satisfied: jinja2 in /home/james/miniconda3/envs/n_llm/lib/python3.9/site-packages (from torch) (3.0.2)\n",
      "Requirement already satisfied: nvidia-cuda-runtime-cu12==12.1.105 in /home/james/miniconda3/envs/n_llm/lib/python3.9/site-packages (from torch) (12.1.105)\n",
      "Requirement already satisfied: nvidia-cudnn-cu12==8.9.2.26 in /home/james/miniconda3/envs/n_llm/lib/python3.9/site-packages (from torch) (8.9.2.26)\n",
      "Requirement already satisfied: nvidia-cufft-cu12==11.0.2.54 in /home/james/miniconda3/envs/n_llm/lib/python3.9/site-packages (from torch) (11.0.2.54)\n",
      "Requirement already satisfied: nvidia-nvtx-cu12==12.1.105 in /home/james/miniconda3/envs/n_llm/lib/python3.9/site-packages (from torch) (12.1.105)\n",
      "Requirement already satisfied: networkx in /home/james/miniconda3/envs/n_llm/lib/python3.9/site-packages (from torch) (2.6.3)\n",
      "Requirement already satisfied: nvidia-curand-cu12==10.3.2.106 in /home/james/miniconda3/envs/n_llm/lib/python3.9/site-packages (from torch) (10.3.2.106)\n",
      "Requirement already satisfied: filelock in /home/james/miniconda3/envs/n_llm/lib/python3.9/site-packages (from torch) (3.4.0)\n",
      "Requirement already satisfied: nvidia-nccl-cu12==2.19.3 in /home/james/miniconda3/envs/n_llm/lib/python3.9/site-packages (from torch) (2.19.3)\n",
      "Requirement already satisfied: triton==2.2.0 in /home/james/miniconda3/envs/n_llm/lib/python3.9/site-packages (from torch) (2.2.0)\n",
      "Requirement already satisfied: typing-extensions>=4.8.0 in /home/james/miniconda3/envs/n_llm/lib/python3.9/site-packages (from torch) (4.9.0)\n",
      "Requirement already satisfied: sympy in /home/james/miniconda3/envs/n_llm/lib/python3.9/site-packages (from torch) (1.8)\n",
      "Requirement already satisfied: nvidia-cusolver-cu12==11.4.5.107 in /home/james/miniconda3/envs/n_llm/lib/python3.9/site-packages (from torch) (11.4.5.107)\n",
      "Requirement already satisfied: nvidia-cuda-nvrtc-cu12==12.1.105 in /home/james/miniconda3/envs/n_llm/lib/python3.9/site-packages (from torch) (12.1.105)\n",
      "Requirement already satisfied: nvidia-cublas-cu12==12.1.3.1 in /home/james/miniconda3/envs/n_llm/lib/python3.9/site-packages (from torch) (12.1.3.1)\n",
      "Requirement already satisfied: nvidia-nvjitlink-cu12 in /home/james/miniconda3/envs/n_llm/lib/python3.9/site-packages (from nvidia-cusolver-cu12==11.4.5.107->torch) (12.3.101)\n",
      "Requirement already satisfied: pillow!=8.3.*,>=5.3.0 in /home/james/miniconda3/envs/n_llm/lib/python3.9/site-packages (from torchvision) (8.4.0)\n",
      "Requirement already satisfied: numpy in /home/james/miniconda3/envs/n_llm/lib/python3.9/site-packages (from torchvision) (1.26.4)\n",
      "Requirement already satisfied: requests in /home/james/miniconda3/envs/n_llm/lib/python3.9/site-packages (from torchvision) (2.31.0)\n",
      "Requirement already satisfied: MarkupSafe>=2.0 in /home/james/miniconda3/envs/n_llm/lib/python3.9/site-packages (from jinja2->torch) (2.0.1)\n",
      "Requirement already satisfied: idna<4,>=2.5 in /home/james/miniconda3/envs/n_llm/lib/python3.9/site-packages (from requests->torchvision) (2.10)\n",
      "Requirement already satisfied: urllib3<3,>=1.21.1 in /home/james/miniconda3/envs/n_llm/lib/python3.9/site-packages (from requests->torchvision) (1.26.6)\n",
      "Requirement already satisfied: charset-normalizer<4,>=2 in /home/james/miniconda3/envs/n_llm/lib/python3.9/site-packages (from requests->torchvision) (3.2.0)\n",
      "Requirement already satisfied: certifi>=2017.4.17 in /home/james/miniconda3/envs/n_llm/lib/python3.9/site-packages (from requests->torchvision) (2021.10.8)\n",
      "Requirement already satisfied: mpmath>=0.19 in /home/james/miniconda3/envs/n_llm/lib/python3.9/site-packages (from sympy->torch) (1.2.1)\n",
      "Note: you may need to restart the kernel to use updated packages.\n"
     ]
    }
   ],
   "source": [
    "# pip install torch torchvision"
   ]
  },
  {
   "cell_type": "code",
   "execution_count": 2,
   "metadata": {
    "id": "RRRmo9bhylYp"
   },
   "outputs": [],
   "source": [
    "import torch\n",
    "import torch.nn as nn\n",
    "import torch.optim as optim\n",
    "from torchvision import datasets, transforms\n",
    "from torch.utils.data import DataLoader\n"
   ]
  },
  {
   "cell_type": "code",
   "execution_count": 3,
   "metadata": {
    "id": "7EVNrbxSynYw"
   },
   "outputs": [],
   "source": [
    "class ANN(nn.Module):\n",
    "    def __init__(self):\n",
    "        super(ANN, self).__init__()\n",
    "        # Input layer (28x28 = 784 pixels), hidden layers, and output layer\n",
    "        self.fc1 = nn.Linear(28*28, 256)  # First hidden layer with 256 neurons\n",
    "        self.fc2 = nn.Linear(256, 128)    # Second hidden layer with 128 neurons\n",
    "        self.fc3 = nn.Linear(128, 10)     # Output layer with 10 classes (digits 0-9)\n",
    "\n",
    "    def forward(self, x):\n",
    "        x = x.view(-1, 28*28)  # Flatten the 28x28 image into a 784-dimensional vector\n",
    "        x = torch.relu(self.fc1(x))  # Activation function (ReLU) after first hidden layer\n",
    "        x = torch.relu(self.fc2(x))  # Activation function (ReLU) after second hidden layer\n",
    "        x = self.fc3(x)  # Output layer (no activation because we will apply CrossEntropyLoss)\n",
    "        return x\n"
   ]
  },
  {
   "cell_type": "code",
   "execution_count": 4,
   "metadata": {
    "colab": {
     "base_uri": "https://localhost:8080/"
    },
    "id": "U9eVsJzyyq6o",
    "outputId": "a44e7e91-f001-4ef1-8c33-20cfb206a8ef"
   },
   "outputs": [
    {
     "name": "stdout",
     "output_type": "stream",
     "text": [
      "Downloading http://yann.lecun.com/exdb/mnist/train-images-idx3-ubyte.gz\n",
      "Failed to download (trying next):\n",
      "HTTP Error 403: Forbidden\n",
      "\n",
      "Downloading https://ossci-datasets.s3.amazonaws.com/mnist/train-images-idx3-ubyte.gz\n",
      "Downloading https://ossci-datasets.s3.amazonaws.com/mnist/train-images-idx3-ubyte.gz to mnist_data/MNIST/raw/train-images-idx3-ubyte.gz\n"
     ]
    },
    {
     "name": "stderr",
     "output_type": "stream",
     "text": [
      "100%|██████████| 9912422/9912422 [00:02<00:00, 3785437.28it/s]\n"
     ]
    },
    {
     "name": "stdout",
     "output_type": "stream",
     "text": [
      "Extracting mnist_data/MNIST/raw/train-images-idx3-ubyte.gz to mnist_data/MNIST/raw\n",
      "\n",
      "Downloading http://yann.lecun.com/exdb/mnist/train-labels-idx1-ubyte.gz\n",
      "Failed to download (trying next):\n",
      "HTTP Error 403: Forbidden\n",
      "\n",
      "Downloading https://ossci-datasets.s3.amazonaws.com/mnist/train-labels-idx1-ubyte.gz\n",
      "Downloading https://ossci-datasets.s3.amazonaws.com/mnist/train-labels-idx1-ubyte.gz to mnist_data/MNIST/raw/train-labels-idx1-ubyte.gz\n"
     ]
    },
    {
     "name": "stderr",
     "output_type": "stream",
     "text": [
      "100%|██████████| 28881/28881 [00:00<00:00, 436410.22it/s]\n"
     ]
    },
    {
     "name": "stdout",
     "output_type": "stream",
     "text": [
      "Extracting mnist_data/MNIST/raw/train-labels-idx1-ubyte.gz to mnist_data/MNIST/raw\n",
      "\n",
      "Downloading http://yann.lecun.com/exdb/mnist/t10k-images-idx3-ubyte.gz\n",
      "Failed to download (trying next):\n",
      "HTTP Error 403: Forbidden\n",
      "\n",
      "Downloading https://ossci-datasets.s3.amazonaws.com/mnist/t10k-images-idx3-ubyte.gz\n",
      "Downloading https://ossci-datasets.s3.amazonaws.com/mnist/t10k-images-idx3-ubyte.gz to mnist_data/MNIST/raw/t10k-images-idx3-ubyte.gz\n"
     ]
    },
    {
     "name": "stderr",
     "output_type": "stream",
     "text": [
      "100%|██████████| 1648877/1648877 [00:00<00:00, 3885467.58it/s]\n"
     ]
    },
    {
     "name": "stdout",
     "output_type": "stream",
     "text": [
      "Extracting mnist_data/MNIST/raw/t10k-images-idx3-ubyte.gz to mnist_data/MNIST/raw\n",
      "\n",
      "Downloading http://yann.lecun.com/exdb/mnist/t10k-labels-idx1-ubyte.gz\n",
      "Failed to download (trying next):\n",
      "HTTP Error 403: Forbidden\n",
      "\n",
      "Downloading https://ossci-datasets.s3.amazonaws.com/mnist/t10k-labels-idx1-ubyte.gz\n",
      "Downloading https://ossci-datasets.s3.amazonaws.com/mnist/t10k-labels-idx1-ubyte.gz to mnist_data/MNIST/raw/t10k-labels-idx1-ubyte.gz\n"
     ]
    },
    {
     "name": "stderr",
     "output_type": "stream",
     "text": [
      "100%|██████████| 4542/4542 [00:00<00:00, 6258386.59it/s]"
     ]
    },
    {
     "name": "stdout",
     "output_type": "stream",
     "text": [
      "Extracting mnist_data/MNIST/raw/t10k-labels-idx1-ubyte.gz to mnist_data/MNIST/raw\n",
      "\n"
     ]
    },
    {
     "name": "stderr",
     "output_type": "stream",
     "text": [
      "\n"
     ]
    }
   ],
   "source": [
    "transform = transforms.Compose([transforms.ToTensor(), transforms.Normalize((0.5,), (0.5,))])\n",
    "\n",
    "train_data = datasets.MNIST(root='mnist_data', train=True, download=True, transform=transform)\n",
    "test_data = datasets.MNIST(root='mnist_data', train=False, download=True, transform=transform)\n",
    "\n",
    "train_loader = DataLoader(train_data, batch_size=64, shuffle=True)\n",
    "test_loader = DataLoader(test_data, batch_size=64, shuffle=False)\n"
   ]
  },
  {
   "cell_type": "code",
   "execution_count": 5,
   "metadata": {
    "id": "Tfjn2fiJywtA"
   },
   "outputs": [],
   "source": [
    "model = ANN()  # Instantiate the model\n",
    "criterion = nn.CrossEntropyLoss()  # Loss function (Cross-Entropy for multi-class classification)\n",
    "optimizer = optim.Adam(model.parameters(), lr=0.001)  # Optimizer (Adam)\n"
   ]
  },
  {
   "cell_type": "code",
   "execution_count": 6,
   "metadata": {
    "colab": {
     "base_uri": "https://localhost:8080/"
    },
    "id": "kpX0LEG6ywyx",
    "outputId": "c4b43ba2-a750-49cb-91cd-67ed7f688dd8"
   },
   "outputs": [
    {
     "name": "stdout",
     "output_type": "stream",
     "text": [
      "Epoch [1/5], Loss: 0.3395\n",
      "Epoch [2/5], Loss: 0.1503\n",
      "Epoch [3/5], Loss: 0.1103\n",
      "Epoch [4/5], Loss: 0.0905\n",
      "Epoch [5/5], Loss: 0.0757\n"
     ]
    }
   ],
   "source": [
    "num_epochs = 5\n",
    "\n",
    "for epoch in range(num_epochs):\n",
    "    running_loss = 0.0\n",
    "    for images, labels in train_loader:\n",
    "        # Zero the parameter gradients\n",
    "        optimizer.zero_grad()\n",
    "\n",
    "        # Forward pass\n",
    "        outputs = model(images)\n",
    "        loss = criterion(outputs, labels)\n",
    "\n",
    "        # Backward pass and optimization\n",
    "        loss.backward()\n",
    "        optimizer.step()\n",
    "\n",
    "        running_loss += loss.item()\n",
    "\n",
    "    print(f\"Epoch [{epoch+1}/{num_epochs}], Loss: {running_loss/len(train_loader):.4f}\")\n"
   ]
  },
  {
   "cell_type": "code",
   "execution_count": 7,
   "metadata": {
    "colab": {
     "base_uri": "https://localhost:8080/"
    },
    "id": "8HyUpF5Myw1J",
    "outputId": "4ddb81e7-72a4-425d-fc5d-1e47cc6302f3"
   },
   "outputs": [
    {
     "name": "stdout",
     "output_type": "stream",
     "text": [
      "Accuracy: 97.31%\n"
     ]
    }
   ],
   "source": [
    "correct = 0\n",
    "total = 0\n",
    "with torch.no_grad():\n",
    "    for images, labels in test_loader:\n",
    "        outputs = model(images)\n",
    "        _, predicted = torch.max(outputs.data, 1)\n",
    "        total += labels.size(0)\n",
    "        correct += (predicted == labels).sum().item()\n",
    "\n",
    "print(f\"Accuracy: {100 * correct / total:.2f}%\")\n"
   ]
  },
  {
   "cell_type": "markdown",
   "metadata": {
    "id": "YOyldyWMzPNA"
   },
   "source": [
    "Jax"
   ]
  },
  {
   "cell_type": "code",
   "execution_count": 8,
   "metadata": {
    "colab": {
     "base_uri": "https://localhost:8080/"
    },
    "id": "-T2wSIg344Rn",
    "outputId": "fe124a67-81e2-4824-edc0-43aed8517997"
   },
   "outputs": [
    {
     "ename": "ModuleNotFoundError",
     "evalue": "No module named 'jax'",
     "output_type": "error",
     "traceback": [
      "\u001b[0;31m---------------------------------------------------------------------------\u001b[0m",
      "\u001b[0;31mModuleNotFoundError\u001b[0m                       Traceback (most recent call last)",
      "\u001b[0;32m<ipython-input-8-eb34fde13363>\u001b[0m in \u001b[0;36m<module>\u001b[0;34m\u001b[0m\n\u001b[0;32m----> 1\u001b[0;31m \u001b[0;32mimport\u001b[0m \u001b[0mjax\u001b[0m\u001b[0;34m\u001b[0m\u001b[0;34m\u001b[0m\u001b[0m\n\u001b[0m\u001b[1;32m      2\u001b[0m \u001b[0;32mimport\u001b[0m \u001b[0mjax\u001b[0m\u001b[0;34m.\u001b[0m\u001b[0mnumpy\u001b[0m \u001b[0;32mas\u001b[0m \u001b[0mjnp\u001b[0m\u001b[0;34m\u001b[0m\u001b[0;34m\u001b[0m\u001b[0m\n\u001b[1;32m      3\u001b[0m \u001b[0;32mimport\u001b[0m \u001b[0moptax\u001b[0m\u001b[0;34m\u001b[0m\u001b[0;34m\u001b[0m\u001b[0m\n\u001b[1;32m      4\u001b[0m \u001b[0;32mimport\u001b[0m \u001b[0mtorch\u001b[0m\u001b[0;34m\u001b[0m\u001b[0;34m\u001b[0m\u001b[0m\n\u001b[1;32m      5\u001b[0m \u001b[0;32mfrom\u001b[0m \u001b[0mtorchvision\u001b[0m \u001b[0;32mimport\u001b[0m \u001b[0mdatasets\u001b[0m\u001b[0;34m,\u001b[0m \u001b[0mtransforms\u001b[0m\u001b[0;34m\u001b[0m\u001b[0;34m\u001b[0m\u001b[0m\n",
      "\u001b[0;31mModuleNotFoundError\u001b[0m: No module named 'jax'"
     ]
    }
   ],
   "source": [
    "import jax\n",
    "import jax.numpy as jnp\n",
    "import optax\n",
    "import torch\n",
    "from torchvision import datasets, transforms\n",
    "from torch.utils.data import DataLoader\n",
    "\n",
    "# Step 1: Load the MNIST dataset using torchvision\n",
    "def get_mnist_dataloader(batch_size=128):\n",
    "    transform = transforms.Compose([transforms.ToTensor()])\n",
    "    train_dataset = datasets.MNIST(root='./data', train=True, transform=transform, download=True)\n",
    "    test_dataset = datasets.MNIST(root='./data', train=False, transform=transform, download=True)\n",
    "\n",
    "    train_loader = DataLoader(train_dataset, batch_size=batch_size, shuffle=True)\n",
    "    test_loader = DataLoader(test_dataset, batch_size=batch_size, shuffle=False)\n",
    "\n",
    "    return train_loader, test_loader\n",
    "\n",
    "train_loader, test_loader = get_mnist_dataloader()\n",
    "\n",
    "# Step 2: Initialize model parameters\n",
    "def init_params(layer_sizes, key):\n",
    "    params = []\n",
    "    keys = jax.random.split(key, len(layer_sizes) - 1)\n",
    "\n",
    "    for in_size, out_size, k in zip(layer_sizes[:-1], layer_sizes[1:], keys):\n",
    "        w_key, b_key = jax.random.split(k)\n",
    "        weights = jax.random.normal(w_key, (in_size, out_size)) * jnp.sqrt(2.0 / in_size)\n",
    "        bias = jnp.zeros(out_size)\n",
    "        params.append((weights, bias))\n",
    "    return params\n",
    "\n",
    "# Step 3: Forward pass through the network\n",
    "def forward(params, x):\n",
    "    for w, b in params[:-1]:\n",
    "        x = jnp.dot(x, w) + b\n",
    "        x = jax.nn.relu(x)\n",
    "    w, b = params[-1]\n",
    "    return jax.nn.log_softmax(jnp.dot(x, w) + b)\n",
    "\n",
    "# Step 4: Loss function (negative log-likelihood)\n",
    "def loss_fn(params, x, y):\n",
    "    preds = forward(params, x)\n",
    "    return -jnp.mean(jnp.sum(preds * y, axis=1))\n",
    "\n",
    "# Step 5: Accuracy metric\n",
    "def accuracy(params, x, y):\n",
    "    preds = jnp.argmax(forward(params, x), axis=1)\n",
    "    return jnp.mean(preds == jnp.argmax(y, axis=1))\n",
    "\n",
    "# Step 6: Update function using gradient descent\n",
    "def update(params, opt_state, x, y, opt_update):\n",
    "    grads = jax.grad(loss_fn)(params, x, y)\n",
    "    updates, opt_state = opt_update(grads, opt_state)\n",
    "    new_params = optax.apply_updates(params, updates)\n",
    "    return new_params, opt_state\n",
    "\n",
    "# Step 7: Training loop\n",
    "def one_hot(labels, num_classes=10):\n",
    "    return jax.nn.one_hot(labels, num_classes)\n",
    "\n",
    "def train_model(params, train_loader, test_loader, epochs=5, lr=0.001):\n",
    "    opt_init, opt_update = optax.adam(lr)\n",
    "    opt_state = opt_init(params)\n",
    "\n",
    "    for epoch in range(epochs):\n",
    "        # Training\n",
    "        for batch_idx, (data, target) in enumerate(train_loader):\n",
    "            data = data.view(-1, 28 * 28).numpy()  # Flatten the image\n",
    "            target = one_hot(target.numpy())\n",
    "            params, opt_state = update(params, opt_state, data, target, opt_update)\n",
    "\n",
    "        # Testing\n",
    "        test_acc = 0\n",
    "        test_loss = 0\n",
    "        for data, target in test_loader:\n",
    "            data = data.view(-1, 28 * 28).numpy()\n",
    "            target = one_hot(target.numpy())\n",
    "            test_loss += loss_fn(params, data, target)\n",
    "            test_acc += accuracy(params, data, target)\n",
    "\n",
    "        print(f'Epoch {epoch+1}, Loss: {test_loss / len(test_loader):.4f}, Accuracy: {test_acc / len(test_loader):.4f}')\n",
    "\n",
    "# Step 8: Main script\n",
    "\n",
    "layer_sizes = [28 * 28, 128, 64, 10]  # Input, hidden layers, and output sizes\n",
    "key = jax.random.PRNGKey(0)\n",
    "params = init_params(layer_sizes, key)\n",
    "train_model(params, train_loader, test_loader)\n"
   ]
  },
  {
   "cell_type": "code",
   "execution_count": null,
   "metadata": {
    "id": "ksPOk0kM44Tv"
   },
   "outputs": [],
   "source": []
  }
 ],
 "metadata": {
  "colab": {
   "provenance": []
  },
  "kernelspec": {
   "display_name": "Python 3",
   "language": "python",
   "name": "python3"
  },
  "language_info": {
   "codemirror_mode": {
    "name": "ipython",
    "version": 3
   },
   "file_extension": ".py",
   "mimetype": "text/x-python",
   "name": "python",
   "nbconvert_exporter": "python",
   "pygments_lexer": "ipython3",
   "version": "3.9.5"
  }
 },
 "nbformat": 4,
 "nbformat_minor": 1
}
