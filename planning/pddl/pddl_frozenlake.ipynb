{
 "cells": [
  {
   "cell_type": "code",
   "execution_count": 11,
   "id": "3422bf1d",
   "metadata": {},
   "outputs": [],
   "source": [
    "# !pip install gymnasium\n",
    "# !pip install \"gymnasium[other]\""
   ]
  },
  {
   "cell_type": "markdown",
   "id": "5acbb17b",
   "metadata": {},
   "source": [
    "# Start a frozenlake instance, and find where the holes are"
   ]
  },
  {
   "cell_type": "code",
   "execution_count": 12,
   "id": "495e2687",
   "metadata": {},
   "outputs": [
    {
     "name": "stdout",
     "output_type": "stream",
     "text": [
      "Holes are located at: [(1, 1), (1, 3), (2, 3), (3, 0)]\n"
     ]
    }
   ],
   "source": [
    "import numpy as np\n",
    "import gymnasium as gym\n",
    "\n",
    "def find_holes(env):\n",
    "    \"\"\"\n",
    "    Identify the positions of holes in the Frozen Lake environment.\n",
    "    \"\"\"\n",
    "    desc = env.unwrapped.desc  # Access the environment's map\n",
    "    holes = []\n",
    "    for row in range(desc.shape[0]):\n",
    "        for col in range(desc.shape[1]):\n",
    "            if desc[row, col] == b'H':  # 'H' represents a hole\n",
    "                holes.append((row, col))\n",
    "    return holes\n",
    "\n",
    "# Create the Frozen Lake environment\n",
    "env = gym.make(\"FrozenLake-v1\", is_slippery=False, render_mode=None)\n",
    "env.reset()\n",
    "\n",
    "# Find and print the holes\n",
    "holes = find_holes(env)\n",
    "print(\"Holes are located at:\", holes)\n"
   ]
  },
  {
   "cell_type": "markdown",
   "id": "4a171d15",
   "metadata": {},
   "source": [
    "# Download and install Metric-FF, a PDDL solver"
   ]
  },
  {
   "cell_type": "markdown",
   "id": "61f48172",
   "metadata": {},
   "source": [
    "Download MetricFF: \n",
    "https://github.com/tatsubori/Metric-FF worked for me\n",
    "https://fai.cs.uni-saarland.de/hoffmann/metric-ff.html (offical) didn’t\n",
    "Navigate to folder and run `make`\n",
    "then run `./ff`\n",
    "\n",
    "is meant for Mac or Linux, but github has a cross platform version: https://github.com/Vidminas/metric-ff-crossplatform"
   ]
  },
  {
   "cell_type": "markdown",
   "id": "597d35eb",
   "metadata": {},
   "source": [
    "# After Creating PDDL domain and problem file, run metric-FF to solve it "
   ]
  },
  {
   "cell_type": "markdown",
   "id": "d0dc2edf",
   "metadata": {},
   "source": [
    "usage of ff:\n",
    "\n",
    "OPTIONS   DESCRIPTIONS\n",
    "\n",
    "-p <str>    Path for operator and fact file\n",
    "-o <str>    Operator file name\n",
    "-f <str>    Fact file name\n",
    "\n",
    "-r <int>    Random seed [used for random restarts; preset: 0]\n",
    "\n",
    "-s <int>    Search configuration [preset: s=5]; '+H': helpful actions pruning\n",
    "      0     Standard-FF: EHC+H then BFS (cost minimization: NO)\n",
    "      1     BFS (cost minimization: NO)\n",
    "      2     BFS+H (cost minimization: NO)\n",
    "      3     Weighted A* (cost minimization: YES)\n",
    "      4     A*epsilon (cost minimization: YES)\n",
    "      5     EHC+H then A*epsilon (cost minimization: YES)\n",
    "-w <num>    Set weight w for search configs 3,4,5 [preset: w=5]\n",
    "\n",
    "-C          Do NOT use cost-minimizing relaxed plans for options 3,4,5\n",
    "\n",
    "-b <float>  Fixed upper bound on solution cost (prune based on g+hmax); active only with cost minimization"
   ]
  },
  {
   "cell_type": "code",
   "execution_count": 3,
   "id": "8f594244",
   "metadata": {},
   "outputs": [
    {
     "name": "stdout",
     "output_type": "stream",
     "text": [
      "Domain file contents:\n",
      "(define (domain frozenlake)\n",
      "  (:requirements :strips :typing)\n",
      "  (:types x y)\n",
      "  (:predicates\n",
      "    (at ?x - x ?y - y)     ; the agent is at position (x, y)\n",
      "    (goal ?x - x ?y - y)    ; the goal is at position (x, y)\n",
      "    (hole ?x - x ?y - y)    ; there is a hole at position (x, y)\n",
      "    (free ?x - x ?y - y)    ; the cell is free and not a hole\n",
      "    (next_x ?p1 ?p2 - x)    ; p2 is next to p1 on x axis\n",
      "    (next_y ?p1 ?p2 - y))   ; p2 is next to p1 on y axis\n",
      "\n",
      "  (:action move-down\n",
      "    :parameters (?x1 - x ?x2 - x ?y - y)\n",
      "    :precondition (and\n",
      "      (at ?x1 ?y)\n",
      "      (next_x ?x1 ?x2)\n",
      "      (free ?x2 ?y))\n",
      "    :effect (and\n",
      "      (not (at ?x1 ?y))\n",
      "      (at ?x2 ?y)))\n",
      "\n",
      "  (:action move-up\n",
      "    :parameters (?x1 - x ?x2 - x ?y - y)\n",
      "    :precondition (and\n",
      "      (at ?x1 ?y)\n",
      "      (next_x ?x2 ?x1)\n",
      "      (free ?x2 ?y))\n",
      "    :effect (and\n",
      "      (not (at ?x1 ?y))\n",
      "      (at ?x2 ?y)))\n",
      "\n",
      "  (:action move-right\n",
      "    :parameters (?x - x ?y1 - y ?y2 - y)\n",
      "    :precondition (and\n",
      "      (at ?x ?y1)\n",
      "      (next_y ?y1 ?y2)\n",
      "      (free ?x ?y2))\n",
      "    :effect (and\n",
      "      (not (at ?x ?y1))\n",
      "      (at ?x ?y2)))\n",
      "\n",
      "  (:action move-left\n",
      "    :parameters (?x - x ?y1 - y ?y2 - y)\n",
      "    :precondition (and\n",
      "      (at ?x ?y1)\n",
      "      (next_y ?y2 ?y1)\n",
      "      (free ?x ?y2))\n",
      "    :effect (and\n",
      "      (not (at ?x ?y1))\n",
      "      (at ?x ?y2)))\n",
      ")\n",
      "\n",
      "\n",
      "Problem file contents:\n",
      "(define (problem frozenlake-problem)\n",
      "  (:domain frozenlake)\n",
      "  (:objects\n",
      "    pos_x_0 pos_x_1 pos_x_2 pos_x_3 - x  ; grid columns\n",
      "    pos_y_0 pos_y_1 pos_y_2 pos_y_3 - y) ; grid rows\n",
      "  (:init\n",
      "    (at pos_x_0 pos_y_0) ; Start position\n",
      "    (goal pos_x_3 pos_y_3) ; Goal position\n",
      "\n",
      "    ; Adjacent positions on x axis\n",
      "    (next_x pos_x_0 pos_x_1)\n",
      "    (next_x pos_x_1 pos_x_2)\n",
      "    (next_x pos_x_2 pos_x_3)\n",
      "\n",
      "    ; Adjacent positions on y axis\n",
      "    (next_y pos_y_0 pos_y_1)\n",
      "    (next_y pos_y_1 pos_y_2)\n",
      "    (next_y pos_y_2 pos_y_3)\n",
      "\n",
      "    ; Free tiles (not holes)\n",
      "    (free pos_x_0 pos_y_0) ; Start position\n",
      "    (free pos_x_0 pos_y_1) (free pos_x_0 pos_y_2) (free pos_x_0 pos_y_3)\n",
      "    (free pos_x_1 pos_y_0) (free pos_x_2 pos_y_0) (free pos_x_2 pos_y_1) (free pos_x_2 pos_y_2)\n",
      "    (free pos_x_3 pos_y_1) (free pos_x_3 pos_y_2) (free pos_x_3 pos_y_3) ; Goal position\n",
      "\n",
      "    ; Holes\n",
      "    (hole pos_x_1 pos_y_1) (hole pos_x_1 pos_y_3) (hole pos_x_2 pos_y_3) (hole pos_x_3 pos_y_0))\n",
      "  (:goal (and (at pos_x_3 pos_y_3)))\n",
      "  \n",
      ")\n",
      "\n",
      "\n",
      "Executing command: ./Metric-FF-master/ff -o ./domain2.pddl -f ./prob2.pddl -s 0\n",
      "\n",
      "MetricFF stdout:\n",
      "\n",
      "ff: parsing domain file\n",
      "domain 'FROZENLAKE' defined\n",
      " ... done.\n",
      "ff: parsing problem file\n",
      "problem 'FROZENLAKE-PROBLEM' defined\n",
      " ... done.\n",
      "\n",
      "\n",
      "no metric specified.\n",
      "\n",
      "ff: search configuration is Enforced Hill-Climbing, if that fails then best-first search.\n",
      "Metric is plan length.\n",
      "NO COST MINIMIZATION (and no cost-minimizing relaxed plans).\n",
      "\n",
      "Cueing down from goal distance:    6 into depth [1]\n",
      "                                   5            [1]\n",
      "                                   4            [1]\n",
      "                                   3            [1]\n",
      "                                   2            [1]\n",
      "                                   1            [1]\n",
      "                                   0            \n",
      "\n",
      "ff: found legal plan as follows\n",
      "step    0: MOVE-DOWN POS_X_0 POS_X_1 POS_Y_0\n",
      "        1: MOVE-DOWN POS_X_1 POS_X_2 POS_Y_0\n",
      "        2: MOVE-RIGHT POS_X_2 POS_Y_0 POS_Y_1\n",
      "        3: MOVE-DOWN POS_X_2 POS_X_3 POS_Y_1\n",
      "        4: MOVE-RIGHT POS_X_3 POS_Y_1 POS_Y_2\n",
      "        5: MOVE-RIGHT POS_X_3 POS_Y_2 POS_Y_3\n",
      "\n",
      "time spent:    0.00 seconds instantiating 32 easy, 0 hard action templates\n",
      "               0.00 seconds reachability analysis, yielding 11 facts and 22 actions\n",
      "               0.00 seconds creating final representation with 11 relevant facts, 0 relevant fluents\n",
      "               0.00 seconds computing LNF\n",
      "               0.00 seconds building connectivity graph\n",
      "               0.00 seconds searching, evaluating 7 states, to a max depth of 1\n",
      "               0.00 seconds total time\n",
      "\n",
      "\n",
      "\n",
      "Plan generated by MetricFF: ['move-down pos_x_0 pos_x_1 pos_y_0', 'move-down pos_x_1 pos_x_2 pos_y_0', 'move-right pos_x_2 pos_y_0 pos_y_1', 'move-down pos_x_2 pos_x_3 pos_y_1', 'move-right pos_x_3 pos_y_1 pos_y_2', 'move-right pos_x_3 pos_y_2 pos_y_3']\n"
     ]
    }
   ],
   "source": [
    "import subprocess\n",
    "import os\n",
    "\n",
    "# Paths to PDDL files\n",
    "domain_file = \"./fl_domain.pddl\"\n",
    "problem_file = \"./fl_prob.pddl\"\n",
    "\n",
    "def run_metricff(domain_file, problem_file):\n",
    "    # First, check if files exist\n",
    "    if not os.path.exists(domain_file):\n",
    "        raise FileNotFoundError(f\"Domain file not found: {domain_file}\")\n",
    "    if not os.path.exists(problem_file):\n",
    "        raise FileNotFoundError(f\"Problem file not found: {problem_file}\")\n",
    "    \n",
    "    # Print file contents for debugging\n",
    "    print(\"Domain file contents:\")\n",
    "    with open(domain_file, 'r') as f:\n",
    "        print(f.read())\n",
    "    print(\"\\nProblem file contents:\")\n",
    "    with open(problem_file, 'r') as f:\n",
    "        print(f.read())\n",
    "    \n",
    "    # Path to MetricFF binary\n",
    "    metricff_path = \"./Metric-FF-master/ff\"\n",
    "    if not os.path.exists(metricff_path):\n",
    "        raise FileNotFoundError(f\"MetricFF executable not found: {metricff_path}\")\n",
    "    \n",
    "    # Make sure ff has execute permissions\n",
    "    os.chmod(metricff_path, 0o755)\n",
    "    \n",
    "    cmd = [metricff_path, \"-o\", domain_file, \"-f\", problem_file, \"-s\", \"0\"]\n",
    "    print(\"\\nExecuting command:\", ' '.join(cmd))\n",
    "    \n",
    "    try:\n",
    "        # Execute MetricFF and capture output\n",
    "        result = subprocess.run(cmd, capture_output=True, text=True, check=True)\n",
    "        \n",
    "        print(\"\\nMetricFF stdout:\")\n",
    "        print(result.stdout)\n",
    "        \n",
    "        # Parse the plan from MetricFF's output\n",
    "        plan = []\n",
    "        capture_plan = False\n",
    "        for line in result.stdout.splitlines():\n",
    "            line = line.strip()\n",
    "            if line.lower().startswith(\"step\"):  # Start capturing actions\n",
    "                capture_plan = True\n",
    "            if capture_plan and \":\" in line:  # Parse actions after \"step\" starts\n",
    "                action = line.split(\":\")[1].strip().lower()\n",
    "                plan.append(action)\n",
    "            if line == \"\":  # Stop capturing on blank lines\n",
    "                capture_plan = False\n",
    "        \n",
    "        return plan\n",
    "        \n",
    "    except subprocess.CalledProcessError as e:\n",
    "        print(\"\\nMetricFF stderr:\")\n",
    "        print(e.stderr)\n",
    "        print(\"\\nMetricFF stdout:\")\n",
    "        print(e.stdout)\n",
    "        raise RuntimeError(f\"MetricFF failed with return code {e.returncode}\")\n",
    "    except Exception as e:\n",
    "        print(f\"Unexpected error: {str(e)}\")\n",
    "        raise\n",
    "\n",
    "try:\n",
    "    # Run MetricFF and get the plan\n",
    "    plan = run_metricff(domain_file, problem_file)\n",
    "    print(\"\\nPlan generated by MetricFF:\", plan)\n",
    "except Exception as e:\n",
    "    print(f\"Error: {str(e)}\")"
   ]
  },
  {
   "cell_type": "markdown",
   "id": "5c376c98",
   "metadata": {},
   "source": [
    "# Convert pddl actions to gym actions"
   ]
  },
  {
   "cell_type": "code",
   "execution_count": 4,
   "id": "a61c362f",
   "metadata": {},
   "outputs": [
    {
     "data": {
      "text/plain": [
       "['move-down pos_x_0 pos_x_1 pos_y_0',\n",
       " 'move-down pos_x_1 pos_x_2 pos_y_0',\n",
       " 'move-right pos_x_2 pos_y_0 pos_y_1',\n",
       " 'move-down pos_x_2 pos_x_3 pos_y_1',\n",
       " 'move-right pos_x_3 pos_y_1 pos_y_2',\n",
       " 'move-right pos_x_3 pos_y_2 pos_y_3']"
      ]
     },
     "execution_count": 4,
     "metadata": {},
     "output_type": "execute_result"
    }
   ],
   "source": [
    "plan"
   ]
  },
  {
   "cell_type": "code",
   "execution_count": 5,
   "id": "cd1b0b89",
   "metadata": {},
   "outputs": [
    {
     "data": {
      "text/plain": [
       "[1, 1, 2, 1, 2, 2]"
      ]
     },
     "execution_count": 5,
     "metadata": {},
     "output_type": "execute_result"
    }
   ],
   "source": [
    "def convert_plan_to_actions(plan):\n",
    "    action_mapping = {\n",
    "        'move-left': 0,\n",
    "        'move-down': 1,\n",
    "        'move-right': 2,\n",
    "        'move-up': 3\n",
    "    }\n",
    "    actions = [action_mapping[step.split()[0]] for step in plan]\n",
    "    return actions\n",
    "\n",
    "convert_plan_to_actions(plan)"
   ]
  },
  {
   "cell_type": "markdown",
   "id": "4afdca92",
   "metadata": {},
   "source": [
    "# Run plan in the frozen lake env"
   ]
  },
  {
   "cell_type": "code",
   "execution_count": 7,
   "id": "f50cda73",
   "metadata": {},
   "outputs": [
    {
     "name": "stdout",
     "output_type": "stream",
     "text": [
      "Execution completed in 6 steps. Final reward: 1.0\n"
     ]
    }
   ],
   "source": [
    "import gymnasium as gym\n",
    "\n",
    "def execute_plan_in_frozenlake(actions):\n",
    "    env = gym.make(\"FrozenLake-v1\", is_slippery=False, render_mode=\"human\")\n",
    "    obs = env.reset()\n",
    "    done = False\n",
    "    step_count = 0\n",
    "    \n",
    "    for action in actions:\n",
    "        if done:\n",
    "            break\n",
    "        obs, reward, done, t, info = env.step(action)\n",
    "        step_count += 1\n",
    "    \n",
    "    env.close()\n",
    "    return step_count, reward\n",
    "\n",
    "# Convert the plan to actions\n",
    "actions = convert_plan_to_actions(plan)\n",
    "steps, final_reward = execute_plan_in_frozenlake(actions)\n",
    "print(f\"Execution completed in {steps} steps. Final reward: {final_reward}\")\n"
   ]
  },
  {
   "cell_type": "code",
   "execution_count": 15,
   "id": "b5540b4a",
   "metadata": {},
   "outputs": [
    {
     "name": "stdout",
     "output_type": "stream",
     "text": [
      "Execution completed in 6 steps. Final reward: 1.0\n"
     ]
    }
   ],
   "source": [
    "import gymnasium as gym\n",
    "from gymnasium.wrappers import RecordVideo\n",
    "\n",
    "def execute_plan_in_frozenlake(actions, video_dir=\"recordings\"):\n",
    "    # Create the environment with video recording\n",
    "    env = RecordVideo(\n",
    "        gym.make(\"FrozenLake-v1\", is_slippery=False, render_mode=\"rgb_array\"),\n",
    "        video_folder=video_dir,\n",
    "        disable_logger=True  # Suppresses Gym logging output\n",
    "    )\n",
    "    obs, info = env.reset()\n",
    "    done = False\n",
    "    step_count = 0\n",
    "\n",
    "    for action in actions:\n",
    "        if done:\n",
    "            break\n",
    "        obs, reward, done, t, info = env.step(action)\n",
    "        step_count += 1\n",
    "    \n",
    "    env.close()\n",
    "    return step_count, reward\n",
    "\n",
    "actions = convert_plan_to_actions(plan)\n",
    "\n",
    "# Execute the plan and record video\n",
    "steps, final_reward = execute_plan_in_frozenlake(actions, video_dir=\"frozenlake_videos\")\n",
    "print(f\"Execution completed in {steps} steps. Final reward: {final_reward}\")\n"
   ]
  }
 ],
 "metadata": {
  "kernelspec": {
   "display_name": "Python 3",
   "language": "python",
   "name": "python3"
  },
  "language_info": {
   "codemirror_mode": {
    "name": "ipython",
    "version": 3
   },
   "file_extension": ".py",
   "mimetype": "text/x-python",
   "name": "python",
   "nbconvert_exporter": "python",
   "pygments_lexer": "ipython3",
   "version": "3.9.5"
  }
 },
 "nbformat": 4,
 "nbformat_minor": 5
}
